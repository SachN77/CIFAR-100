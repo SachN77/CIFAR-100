{
 "cells": [
  {
   "cell_type": "code",
   "execution_count": 1,
   "id": "8c25b2a8",
   "metadata": {},
   "outputs": [
    {
     "name": "stdout",
     "output_type": "stream",
     "text": [
      "Downloading data from https://www.cs.toronto.edu/~kriz/cifar-100-python.tar.gz\n",
      "169001437/169001437 [==============================] - 8s 0us/step\n"
     ]
    }
   ],
   "source": [
    "from keras.datasets import cifar100\n",
    "(x_train, y_train), (x_test, y_test) = cifar100.load_data()"
   ]
  },
  {
   "cell_type": "code",
   "execution_count": 2,
   "id": "af7de913",
   "metadata": {},
   "outputs": [],
   "source": [
    "x_train = x_train.astype('float32')/255\n",
    "x_test = x_test.astype('float32')/255"
   ]
  },
  {
   "cell_type": "code",
   "execution_count": 4,
   "id": "2f16d833",
   "metadata": {},
   "outputs": [],
   "source": [
    "from keras.utils import to_categorical\n",
    "y_train = to_categorical(y_train, 100)\n",
    "y_test = to_categorical(y_test, 100)"
   ]
  },
  {
   "cell_type": "code",
   "execution_count": 5,
   "id": "091b5b73",
   "metadata": {},
   "outputs": [],
   "source": [
    "from keras.models import Sequential\n",
    "model = Sequential()"
   ]
  },
  {
   "cell_type": "code",
   "execution_count": 6,
   "id": "1f20941f",
   "metadata": {},
   "outputs": [],
   "source": [
    "from keras.layers import Conv2D\n",
    "model.add(Conv2D(32, (3,3), input_shape=(32, 32, 3), activation='relu'))\n",
    "model.add(Conv2D(32, (3,3), activation='relu'))"
   ]
  },
  {
   "cell_type": "code",
   "execution_count": 7,
   "id": "5bad8922",
   "metadata": {},
   "outputs": [],
   "source": [
    "from keras.layers import MaxPooling2D\n",
    "model.add(MaxPooling2D(pool_size=(2,2)))"
   ]
  },
  {
   "cell_type": "code",
   "execution_count": 9,
   "id": "6efd5a4b",
   "metadata": {},
   "outputs": [],
   "source": [
    "from keras.layers import Dropout\n",
    "model.add(Dropout(0.25))"
   ]
  },
  {
   "cell_type": "code",
   "execution_count": 10,
   "id": "f36f982e",
   "metadata": {},
   "outputs": [],
   "source": [
    "from keras.layers import Flatten\n",
    "model.add(Flatten())"
   ]
  },
  {
   "cell_type": "code",
   "execution_count": 11,
   "id": "c2e90745",
   "metadata": {},
   "outputs": [],
   "source": [
    "from keras.layers import Dense\n",
    "model.add(Dense(units = 512, activation = 'relu'))"
   ]
  },
  {
   "cell_type": "code",
   "execution_count": 12,
   "id": "afad87fe",
   "metadata": {},
   "outputs": [],
   "source": [
    "from keras.layers import Dropout\n",
    "model.add(Dropout(0.5))"
   ]
  },
  {
   "cell_type": "code",
   "execution_count": 13,
   "id": "d70e9498",
   "metadata": {},
   "outputs": [],
   "source": [
    "model.add(Dense(units = 100, activation = 'softmax'))"
   ]
  },
  {
   "cell_type": "code",
   "execution_count": 14,
   "id": "602d7702",
   "metadata": {},
   "outputs": [],
   "source": [
    "model.compile(optimizer = 'adam', loss = 'categorical_crossentropy', metrics = ['accuracy'])"
   ]
  },
  {
   "cell_type": "code",
   "execution_count": 15,
   "id": "f4d7d64f",
   "metadata": {},
   "outputs": [
    {
     "name": "stdout",
     "output_type": "stream",
     "text": [
      "Epoch 1/100\n",
      "1563/1563 [==============================] - 102s 65ms/step - loss: 3.7835 - accuracy: 0.1268\n",
      "Epoch 2/100\n",
      "1563/1563 [==============================] - 104s 66ms/step - loss: 3.1157 - accuracy: 0.2422\n",
      "Epoch 3/100\n",
      "1563/1563 [==============================] - 103s 66ms/step - loss: 2.8028 - accuracy: 0.3014\n",
      "Epoch 4/100\n",
      "1563/1563 [==============================] - 100s 64ms/step - loss: 2.5808 - accuracy: 0.3429\n",
      "Epoch 5/100\n",
      "1563/1563 [==============================] - 102s 66ms/step - loss: 2.4136 - accuracy: 0.3747\n",
      "Epoch 6/100\n",
      "1563/1563 [==============================] - 107s 68ms/step - loss: 2.2773 - accuracy: 0.4031\n",
      "Epoch 7/100\n",
      "1563/1563 [==============================] - 109s 70ms/step - loss: 2.1527 - accuracy: 0.4317\n",
      "Epoch 8/100\n",
      "1563/1563 [==============================] - 105s 67ms/step - loss: 2.0479 - accuracy: 0.4511\n",
      "Epoch 9/100\n",
      "1563/1563 [==============================] - 105s 67ms/step - loss: 1.9394 - accuracy: 0.4747\n",
      "Epoch 10/100\n",
      "1563/1563 [==============================] - 107s 69ms/step - loss: 1.8506 - accuracy: 0.4935\n",
      "Epoch 11/100\n",
      "1563/1563 [==============================] - 104s 66ms/step - loss: 1.7758 - accuracy: 0.5102\n",
      "Epoch 12/100\n",
      "1563/1563 [==============================] - 104s 67ms/step - loss: 1.6884 - accuracy: 0.5292\n",
      "Epoch 13/100\n",
      "1563/1563 [==============================] - 105s 67ms/step - loss: 1.6165 - accuracy: 0.5460\n",
      "Epoch 14/100\n",
      "1563/1563 [==============================] - 104s 67ms/step - loss: 1.5514 - accuracy: 0.5615\n",
      "Epoch 15/100\n",
      "1563/1563 [==============================] - 91s 58ms/step - loss: 1.4910 - accuracy: 0.5714\n",
      "Epoch 16/100\n",
      "1563/1563 [==============================] - 91s 58ms/step - loss: 1.4444 - accuracy: 0.5886\n",
      "Epoch 17/100\n",
      "1563/1563 [==============================] - 103s 66ms/step - loss: 1.3907 - accuracy: 0.5994\n",
      "Epoch 18/100\n",
      "1563/1563 [==============================] - 103s 66ms/step - loss: 1.3381 - accuracy: 0.6146\n",
      "Epoch 19/100\n",
      "1563/1563 [==============================] - 89s 57ms/step - loss: 1.3003 - accuracy: 0.6234\n",
      "Epoch 20/100\n",
      "1563/1563 [==============================] - 97s 62ms/step - loss: 1.2570 - accuracy: 0.6349\n",
      "Epoch 21/100\n",
      "1563/1563 [==============================] - 104s 67ms/step - loss: 1.2278 - accuracy: 0.6414\n",
      "Epoch 22/100\n",
      "1563/1563 [==============================] - 95s 61ms/step - loss: 1.1941 - accuracy: 0.6485\n",
      "Epoch 23/100\n",
      "1563/1563 [==============================] - 96s 61ms/step - loss: 1.1583 - accuracy: 0.6590\n",
      "Epoch 24/100\n",
      "1563/1563 [==============================] - 97s 62ms/step - loss: 1.1307 - accuracy: 0.6658\n",
      "Epoch 25/100\n",
      "1563/1563 [==============================] - 94s 60ms/step - loss: 1.1041 - accuracy: 0.6717\n",
      "Epoch 26/100\n",
      "1563/1563 [==============================] - 102s 65ms/step - loss: 1.0769 - accuracy: 0.6795\n",
      "Epoch 27/100\n",
      "1563/1563 [==============================] - 99s 63ms/step - loss: 1.0614 - accuracy: 0.6869\n",
      "Epoch 28/100\n",
      "1563/1563 [==============================] - 93s 60ms/step - loss: 1.0281 - accuracy: 0.6952\n",
      "Epoch 29/100\n",
      "1563/1563 [==============================] - 95s 61ms/step - loss: 1.0098 - accuracy: 0.7003\n",
      "Epoch 30/100\n",
      "1563/1563 [==============================] - 100s 64ms/step - loss: 1.0013 - accuracy: 0.7019\n",
      "Epoch 31/100\n",
      "1563/1563 [==============================] - 96s 61ms/step - loss: 0.9762 - accuracy: 0.7083\n",
      "Epoch 32/100\n",
      "1563/1563 [==============================] - 95s 61ms/step - loss: 0.9600 - accuracy: 0.7122\n",
      "Epoch 33/100\n",
      "1563/1563 [==============================] - 94s 60ms/step - loss: 0.9386 - accuracy: 0.7195\n",
      "Epoch 34/100\n",
      "1563/1563 [==============================] - 102s 66ms/step - loss: 0.9223 - accuracy: 0.7253\n",
      "Epoch 35/100\n",
      "1563/1563 [==============================] - 109s 69ms/step - loss: 0.9178 - accuracy: 0.7259\n",
      "Epoch 36/100\n",
      "1563/1563 [==============================] - 106s 68ms/step - loss: 0.8940 - accuracy: 0.7314\n",
      "Epoch 37/100\n",
      "1563/1563 [==============================] - 105s 67ms/step - loss: 0.8806 - accuracy: 0.7383\n",
      "Epoch 38/100\n",
      "1563/1563 [==============================] - 105s 67ms/step - loss: 0.8655 - accuracy: 0.7393\n",
      "Epoch 39/100\n",
      "1563/1563 [==============================] - 104s 66ms/step - loss: 0.8627 - accuracy: 0.7395\n",
      "Epoch 40/100\n",
      "1563/1563 [==============================] - 104s 66ms/step - loss: 0.8460 - accuracy: 0.7464\n",
      "Epoch 41/100\n",
      "1563/1563 [==============================] - 104s 66ms/step - loss: 0.8352 - accuracy: 0.7480\n",
      "Epoch 42/100\n",
      "1563/1563 [==============================] - 104s 66ms/step - loss: 0.8181 - accuracy: 0.7542\n",
      "Epoch 43/100\n",
      "1563/1563 [==============================] - 100s 64ms/step - loss: 0.8303 - accuracy: 0.7507\n",
      "Epoch 44/100\n",
      "1563/1563 [==============================] - 96s 62ms/step - loss: 0.8040 - accuracy: 0.7567\n",
      "Epoch 45/100\n",
      "1563/1563 [==============================] - 108s 69ms/step - loss: 0.8062 - accuracy: 0.7600\n",
      "Epoch 46/100\n",
      "1563/1563 [==============================] - 97s 62ms/step - loss: 0.7946 - accuracy: 0.7591\n",
      "Epoch 47/100\n",
      "1563/1563 [==============================] - 105s 67ms/step - loss: 0.7825 - accuracy: 0.7662\n",
      "Epoch 48/100\n",
      "1563/1563 [==============================] - 106s 68ms/step - loss: 0.7750 - accuracy: 0.7659\n",
      "Epoch 49/100\n",
      "1563/1563 [==============================] - 103s 66ms/step - loss: 0.7592 - accuracy: 0.7688\n",
      "Epoch 50/100\n",
      "1563/1563 [==============================] - 104s 67ms/step - loss: 0.7613 - accuracy: 0.7693\n",
      "Epoch 51/100\n",
      "1563/1563 [==============================] - 102s 65ms/step - loss: 0.7517 - accuracy: 0.7743\n",
      "Epoch 52/100\n",
      "1563/1563 [==============================] - 101s 65ms/step - loss: 0.7458 - accuracy: 0.7761\n",
      "Epoch 53/100\n",
      "1563/1563 [==============================] - 102s 65ms/step - loss: 0.7436 - accuracy: 0.7750\n",
      "Epoch 54/100\n",
      "1563/1563 [==============================] - 90s 57ms/step - loss: 0.7370 - accuracy: 0.7780\n",
      "Epoch 55/100\n",
      "1563/1563 [==============================] - 87s 56ms/step - loss: 0.7307 - accuracy: 0.7816\n",
      "Epoch 56/100\n",
      "1563/1563 [==============================] - 91s 58ms/step - loss: 0.7190 - accuracy: 0.7833\n",
      "Epoch 57/100\n",
      "1563/1563 [==============================] - 98s 63ms/step - loss: 0.7126 - accuracy: 0.7849\n",
      "Epoch 58/100\n",
      "1563/1563 [==============================] - 102s 65ms/step - loss: 0.7144 - accuracy: 0.7878\n",
      "Epoch 59/100\n",
      "1563/1563 [==============================] - 96s 62ms/step - loss: 0.7002 - accuracy: 0.7898\n",
      "Epoch 60/100\n",
      "1563/1563 [==============================] - 92s 59ms/step - loss: 0.6915 - accuracy: 0.7909\n",
      "Epoch 61/100\n",
      "1563/1563 [==============================] - 105s 67ms/step - loss: 0.6906 - accuracy: 0.7935\n",
      "Epoch 62/100\n",
      "1563/1563 [==============================] - 103s 66ms/step - loss: 0.6828 - accuracy: 0.7927\n",
      "Epoch 63/100\n",
      "1563/1563 [==============================] - 105s 67ms/step - loss: 0.6712 - accuracy: 0.7974\n",
      "Epoch 64/100\n",
      "1563/1563 [==============================] - 100s 64ms/step - loss: 0.6825 - accuracy: 0.7974\n",
      "Epoch 65/100\n",
      "1563/1563 [==============================] - 102s 66ms/step - loss: 0.6646 - accuracy: 0.8018\n",
      "Epoch 66/100\n",
      "1563/1563 [==============================] - 103s 66ms/step - loss: 0.6520 - accuracy: 0.8018\n",
      "Epoch 67/100\n",
      "1563/1563 [==============================] - 102s 65ms/step - loss: 0.6652 - accuracy: 0.8002\n",
      "Epoch 68/100\n",
      "1563/1563 [==============================] - 98s 63ms/step - loss: 0.6591 - accuracy: 0.8032\n",
      "Epoch 69/100\n",
      "1563/1563 [==============================] - 98s 63ms/step - loss: 0.6428 - accuracy: 0.8050\n",
      "Epoch 70/100\n",
      "1563/1563 [==============================] - 94s 60ms/step - loss: 0.6494 - accuracy: 0.8057\n",
      "Epoch 71/100\n",
      "1563/1563 [==============================] - 101s 65ms/step - loss: 0.6480 - accuracy: 0.8083\n",
      "Epoch 72/100\n",
      "1563/1563 [==============================] - 93s 59ms/step - loss: 0.6444 - accuracy: 0.8062\n",
      "Epoch 73/100\n",
      "1563/1563 [==============================] - 103s 66ms/step - loss: 0.6430 - accuracy: 0.8085\n",
      "Epoch 74/100\n",
      "1563/1563 [==============================] - 103s 66ms/step - loss: 0.6368 - accuracy: 0.8093\n",
      "Epoch 75/100\n",
      "1563/1563 [==============================] - 102s 65ms/step - loss: 0.6199 - accuracy: 0.8158\n",
      "Epoch 76/100\n",
      "1563/1563 [==============================] - 103s 66ms/step - loss: 0.6202 - accuracy: 0.8134\n",
      "Epoch 77/100\n"
     ]
    },
    {
     "name": "stdout",
     "output_type": "stream",
     "text": [
      "1563/1563 [==============================] - 103s 66ms/step - loss: 0.6214 - accuracy: 0.8126\n",
      "Epoch 78/100\n",
      "1563/1563 [==============================] - 104s 67ms/step - loss: 0.6217 - accuracy: 0.8150\n",
      "Epoch 79/100\n",
      "1563/1563 [==============================] - 102s 65ms/step - loss: 0.6128 - accuracy: 0.8161\n",
      "Epoch 80/100\n",
      "1563/1563 [==============================] - 101s 65ms/step - loss: 0.6157 - accuracy: 0.8167\n",
      "Epoch 81/100\n",
      "1563/1563 [==============================] - 101s 64ms/step - loss: 0.6104 - accuracy: 0.8188\n",
      "Epoch 82/100\n",
      "1563/1563 [==============================] - 98s 63ms/step - loss: 0.6133 - accuracy: 0.8166\n",
      "Epoch 83/100\n",
      "1563/1563 [==============================] - 102s 65ms/step - loss: 0.6073 - accuracy: 0.8185\n",
      "Epoch 84/100\n",
      "1563/1563 [==============================] - 96s 62ms/step - loss: 0.5964 - accuracy: 0.8212\n",
      "Epoch 85/100\n",
      "1563/1563 [==============================] - 95s 61ms/step - loss: 0.6107 - accuracy: 0.8184\n",
      "Epoch 86/100\n",
      "1563/1563 [==============================] - 94s 60ms/step - loss: 0.5955 - accuracy: 0.8227\n",
      "Epoch 87/100\n",
      "1563/1563 [==============================] - 94s 60ms/step - loss: 0.5914 - accuracy: 0.8237\n",
      "Epoch 88/100\n",
      "1563/1563 [==============================] - 94s 60ms/step - loss: 0.5936 - accuracy: 0.8226\n",
      "Epoch 89/100\n",
      "1563/1563 [==============================] - 94s 60ms/step - loss: 0.5875 - accuracy: 0.8246\n",
      "Epoch 90/100\n",
      "1563/1563 [==============================] - 94s 60ms/step - loss: 0.5858 - accuracy: 0.8247\n",
      "Epoch 91/100\n",
      "1563/1563 [==============================] - 94s 60ms/step - loss: 0.5827 - accuracy: 0.8249\n",
      "Epoch 92/100\n",
      "1563/1563 [==============================] - 95s 60ms/step - loss: 0.5789 - accuracy: 0.8276\n",
      "Epoch 93/100\n",
      "1563/1563 [==============================] - 93s 60ms/step - loss: 0.5917 - accuracy: 0.8235\n",
      "Epoch 94/100\n",
      "1563/1563 [==============================] - 94s 60ms/step - loss: 0.5849 - accuracy: 0.8263\n",
      "Epoch 95/100\n",
      "1563/1563 [==============================] - 94s 60ms/step - loss: 0.5752 - accuracy: 0.8288\n",
      "Epoch 96/100\n",
      "1563/1563 [==============================] - 94s 60ms/step - loss: 0.5726 - accuracy: 0.8290\n",
      "Epoch 97/100\n",
      "1563/1563 [==============================] - 94s 60ms/step - loss: 0.5751 - accuracy: 0.8291\n",
      "Epoch 98/100\n",
      "1563/1563 [==============================] - 93s 60ms/step - loss: 0.5614 - accuracy: 0.8326\n",
      "Epoch 99/100\n",
      "1563/1563 [==============================] - 94s 60ms/step - loss: 0.5588 - accuracy: 0.8341\n",
      "Epoch 100/100\n",
      "1563/1563 [==============================] - 94s 60ms/step - loss: 0.5684 - accuracy: 0.8318\n"
     ]
    },
    {
     "data": {
      "text/plain": [
       "<keras.callbacks.History at 0x103024d26d0>"
      ]
     },
     "execution_count": 15,
     "metadata": {},
     "output_type": "execute_result"
    }
   ],
   "source": [
    "model.fit(x_train, y_train, epochs = 100, batch_size = 32)"
   ]
  },
  {
   "cell_type": "code",
   "execution_count": 16,
   "id": "ff95d375",
   "metadata": {},
   "outputs": [
    {
     "name": "stdout",
     "output_type": "stream",
     "text": [
      "313/313 [==============================] - 4s 8ms/step\n"
     ]
    },
    {
     "data": {
      "text/plain": [
       "array([[8.82077347e-06, 5.65010159e-05, 5.93851510e-05, ...,\n",
       "        2.45843148e-06, 9.83320526e-04, 9.15618166e-02],\n",
       "       [5.57191670e-03, 4.32427041e-04, 2.98182517e-02, ...,\n",
       "        5.09646572e-02, 4.31546214e-04, 8.89350602e-04],\n",
       "       [1.43958471e-06, 1.29960235e-05, 7.84050571e-05, ...,\n",
       "        7.30499160e-05, 3.95470342e-05, 2.81297366e-06],\n",
       "       ...,\n",
       "       [9.59914104e-09, 2.21880487e-06, 2.97571158e-13, ...,\n",
       "        1.28956262e-10, 6.68257767e-14, 1.18511934e-07],\n",
       "       [5.49442092e-09, 5.56112427e-05, 7.59942996e-05, ...,\n",
       "        4.44296747e-05, 4.45389134e-07, 5.07426012e-05],\n",
       "       [2.74277659e-06, 5.30801820e-08, 4.48758003e-10, ...,\n",
       "        4.17669127e-13, 1.16227602e-05, 9.23309290e-06]], dtype=float32)"
      ]
     },
     "execution_count": 16,
     "metadata": {},
     "output_type": "execute_result"
    }
   ],
   "source": [
    "y_pred = model.predict(x_test)\n",
    "y_pred"
   ]
  },
  {
   "cell_type": "code",
   "execution_count": 17,
   "id": "18826d3b",
   "metadata": {},
   "outputs": [
    {
     "name": "stdout",
     "output_type": "stream",
     "text": [
      "313/313 [==============================] - 3s 8ms/step - loss: 3.6732 - accuracy: 0.3546\n"
     ]
    }
   ],
   "source": [
    "loss, accuracy = model.evaluate(x_test, y_test)"
   ]
  },
  {
   "cell_type": "code",
   "execution_count": null,
   "id": "93edd0a3",
   "metadata": {},
   "outputs": [],
   "source": []
  }
 ],
 "metadata": {
  "kernelspec": {
   "display_name": "Python 3 (ipykernel)",
   "language": "python",
   "name": "python3"
  },
  "language_info": {
   "codemirror_mode": {
    "name": "ipython",
    "version": 3
   },
   "file_extension": ".py",
   "mimetype": "text/x-python",
   "name": "python",
   "nbconvert_exporter": "python",
   "pygments_lexer": "ipython3",
   "version": "3.9.12"
  }
 },
 "nbformat": 4,
 "nbformat_minor": 5
}
